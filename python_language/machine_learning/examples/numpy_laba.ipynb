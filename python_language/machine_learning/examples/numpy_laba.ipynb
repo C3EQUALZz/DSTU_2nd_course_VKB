{
 "nbformat": 4,
 "nbformat_minor": 0,
 "metadata": {
  "colab": {
   "provenance": []
  },
  "kernelspec": {
   "name": "python3",
   "display_name": "Python 3"
  },
  "language_info": {
   "name": "python"
  }
 },
 "cells": [
  {
   "cell_type": "code",
   "execution_count": null,
   "metadata": {
    "colab": {
     "base_uri": "https://localhost:8080/"
    },
    "id": "jNRYXxPZgNeS",
    "outputId": "69d2c2cb-bba8-4ada-a3f1-e78e116cba55"
   },
   "outputs": [
    {
     "output_type": "stream",
     "name": "stdout",
     "text": [
      "[ 0  1  1  0  4 -5 -1 -1  2  3]\n",
      "[[1 2 4 5 6 7 8 9]]\n"
     ]
    }
   ],
   "source": [
    "import numpy as np\n",
    "# Task1\n",
    "arr = np.array(np.random.randint(-5, 5, 10))\n",
    "print(arr)\n",
    "b = np.where(arr != 0)\n",
    "print(np.around(b))\n",
    "\n"
   ]
  },
  {
   "cell_type": "code",
   "source": [
    "import numpy as np\n",
    "# Task2\n",
    "n = int(input('Введите число '))\n",
    "arr = np.ones((n, n), dtype=int)\n",
    "print(arr)"
   ],
   "metadata": {
    "colab": {
     "base_uri": "https://localhost:8080/"
    },
    "id": "yv5fhG9ig-m-",
    "outputId": "a6091f14-bf9c-46cf-b4a7-6545757a2fc5"
   },
   "execution_count": null,
   "outputs": [
    {
     "output_type": "stream",
     "name": "stdout",
     "text": [
      "Введите число 5\n",
      "[[1 1 1 1 1]\n",
      " [1 1 1 1 1]\n",
      " [1 1 1 1 1]\n",
      " [1 1 1 1 1]\n",
      " [1 1 1 1 1]]\n"
     ]
    }
   ]
  },
  {
   "cell_type": "code",
   "source": [
    "import numpy as np\n",
    "# Task3\n",
    "\n",
    "n = int(input('Введите число '))\n",
    "arr = np.random.randn(n, n, n)\n",
    "print(arr)"
   ],
   "metadata": {
    "colab": {
     "base_uri": "https://localhost:8080/"
    },
    "id": "S9CSU5u4hMZd",
    "outputId": "f2f4c8f1-e4cb-4499-cb9f-0d447b6ca6dd"
   },
   "execution_count": null,
   "outputs": [
    {
     "output_type": "stream",
     "name": "stdout",
     "text": [
      "Введите число 5\n",
      "[[[ 0.75865781 -0.52784048  0.22173492 -0.4096255  -0.64891345]\n",
      "  [-0.28776387  1.79207683 -1.26619725 -0.72344809  1.08104637]\n",
      "  [-0.80999131 -1.30176426  0.07507898 -0.51186715  0.78552198]\n",
      "  [ 1.25597376 -0.75652985 -0.8814008   0.07845288 -0.43452448]\n",
      "  [-0.33664489  1.15363593 -0.44111582  0.2444491   1.30915057]]\n",
      "\n",
      " [[-0.6042217  -0.92542314 -1.15056174 -0.36305575 -0.61921514]\n",
      "  [ 1.0280178  -0.2010653  -0.22614089  1.72209781 -2.444171  ]\n",
      "  [-2.76990995 -1.234891    1.36963152 -0.32971068 -0.84290391]\n",
      "  [ 0.11993529 -0.5658896   0.75678215  0.97738814  0.45512726]\n",
      "  [-0.57669103  1.52150613 -1.17221857  0.44416811 -0.42762059]]\n",
      "\n",
      " [[ 1.58662442  0.21635928  0.58855465  0.30478543 -0.09374069]\n",
      "  [-0.26273508 -0.76916902 -0.26654255  0.08933788  0.07251614]\n",
      "  [ 0.87227916 -1.81539475  0.75420866  0.86493953 -0.08048859]\n",
      "  [ 1.9620983   0.26210909  0.31304498 -0.7355227  -0.34323509]\n",
      "  [-0.43847618 -0.46052103 -0.49323547 -1.61260483  0.57095726]]\n",
      "\n",
      " [[ 2.72908268 -0.48784588  1.867914   -0.17317659 -1.22479577]\n",
      "  [ 2.55813443 -1.40482477 -0.93357557 -0.42023775 -2.48895454]\n",
      "  [ 0.63676449  0.60291873 -0.6620791  -0.3209783   0.67971885]\n",
      "  [ 1.59629818 -0.39965766 -1.55609546 -0.19612784 -1.61480746]\n",
      "  [-1.2508517   1.21184696  1.94629262  0.21806903 -2.04317094]]\n",
      "\n",
      " [[-0.07922874  0.50733    -0.4230529  -1.09122685 -0.99134751]\n",
      "  [-0.47494683 -1.03380567  0.01009499  1.3215482  -0.03900172]\n",
      "  [ 0.41840357 -1.17319806  1.03994976 -1.61567998 -1.06416232]\n",
      "  [-0.17365993 -0.16223287  0.05864886  0.97262567 -0.42158489]\n",
      "  [-0.53919837  1.58791287  0.30558466  0.14715879  0.67591257]]]\n"
     ]
    }
   ]
  },
  {
   "cell_type": "code",
   "source": [
    "import numpy as np\n",
    "# Task4\n",
    "\n",
    "n = int(input('Введите число '))\n",
    "arr = np.zeros(n, dtype=int)\n",
    "print(arr)"
   ],
   "metadata": {
    "id": "qGqrc2bPhWm7"
   },
   "execution_count": null,
   "outputs": []
  },
  {
   "cell_type": "code",
   "source": [
    "import numpy as np\n",
    "# Task5\n",
    "\n",
    "n = int(f\"1{input('Введите число ')}\")\n",
    "arr = np.zeros(n, dtype=int)\n",
    "arr[4] = 1\n",
    "print(arr)"
   ],
   "metadata": {
    "colab": {
     "base_uri": "https://localhost:8080/"
    },
    "id": "1pjQUDfRhYlJ",
    "outputId": "71aca394-4fd0-4c18-d582-986c617c0103"
   },
   "execution_count": null,
   "outputs": [
    {
     "output_type": "stream",
     "name": "stdout",
     "text": [
      "Введите число 5\n",
      "[0 0 0 0 1 0 0 0 0 0 0 0 0 0 0]\n"
     ]
    }
   ]
  },
  {
   "cell_type": "code",
   "source": [
    "import numpy as np\n",
    "# Task6\n",
    "\n",
    "n = int(input('Введите число n '))\n",
    "m = int(input('Введите число m '))\n",
    "arr = np.arange(n, m)\n",
    "print(arr)"
   ],
   "metadata": {
    "colab": {
     "base_uri": "https://localhost:8080/"
    },
    "id": "fAuPsTCJhZFi",
    "outputId": "44af47ac-994b-41c5-9e05-74644214ff4b"
   },
   "execution_count": null,
   "outputs": [
    {
     "output_type": "stream",
     "name": "stdout",
     "text": [
      "Введите число n 1\n",
      "Введите число m 10\n",
      "[1 2 3 4 5 6 7 8 9]\n"
     ]
    }
   ]
  },
  {
   "cell_type": "code",
   "source": [
    "import numpy as np\n",
    "# Task7\n",
    "arr = np.random.randint(0, 10, 10)\n",
    "print(arr)\n",
    "print(arr[-1::-1])"
   ],
   "metadata": {
    "colab": {
     "base_uri": "https://localhost:8080/"
    },
    "id": "Eq2q9Ow6hZZD",
    "outputId": "eb22b25f-c776-49fd-94b9-a6066066572a"
   },
   "execution_count": null,
   "outputs": [
    {
     "output_type": "stream",
     "name": "stdout",
     "text": [
      "[8 8 6 7 2 8 2 8 1 1]\n",
      "[1 1 8 2 8 2 7 6 8 8]\n"
     ]
    }
   ]
  },
  {
   "cell_type": "code",
   "source": [
    "import numpy as np\n",
    "# Task8\n",
    "\n",
    "n = int(input('Введите число n '))\n",
    "arr = np.ones((n, n), dtype=int)\n",
    "arr[1:-1, 1:-1] = 0\n",
    "print(arr)"
   ],
   "metadata": {
    "colab": {
     "base_uri": "https://localhost:8080/"
    },
    "id": "lgt3Xz9jhZ1o",
    "outputId": "c6422ea8-a33f-4232-e331-25c8f2deedd5"
   },
   "execution_count": null,
   "outputs": [
    {
     "output_type": "stream",
     "name": "stdout",
     "text": [
      "Введите число n 10\n",
      "[[1 1 1 1 1 1 1 1 1 1]\n",
      " [1 0 0 0 0 0 0 0 0 1]\n",
      " [1 0 0 0 0 0 0 0 0 1]\n",
      " [1 0 0 0 0 0 0 0 0 1]\n",
      " [1 0 0 0 0 0 0 0 0 1]\n",
      " [1 0 0 0 0 0 0 0 0 1]\n",
      " [1 0 0 0 0 0 0 0 0 1]\n",
      " [1 0 0 0 0 0 0 0 0 1]\n",
      " [1 0 0 0 0 0 0 0 0 1]\n",
      " [1 1 1 1 1 1 1 1 1 1]]\n"
     ]
    }
   ]
  },
  {
   "cell_type": "code",
   "source": [
    "import numpy as np\n",
    "# Task9\n",
    "\n",
    "n = int(input('Введите число n '))\n",
    "arr = np.zeros((n, n), dtype=int)\n",
    "arr[::2, 1::2] = 1\n",
    "arr[1::2, ::2] = 1\n",
    "print(arr)"
   ],
   "metadata": {
    "colab": {
     "base_uri": "https://localhost:8080/"
    },
    "id": "g3hwAztEhaLy",
    "outputId": "7706b678-0c59-4e3f-e084-7c7401b3ba24"
   },
   "execution_count": null,
   "outputs": [
    {
     "output_type": "stream",
     "name": "stdout",
     "text": [
      "Введите число n 10\n",
      "[[0 1 0 1 0 1 0 1 0 1]\n",
      " [1 0 1 0 1 0 1 0 1 0]\n",
      " [0 1 0 1 0 1 0 1 0 1]\n",
      " [1 0 1 0 1 0 1 0 1 0]\n",
      " [0 1 0 1 0 1 0 1 0 1]\n",
      " [1 0 1 0 1 0 1 0 1 0]\n",
      " [0 1 0 1 0 1 0 1 0 1]\n",
      " [1 0 1 0 1 0 1 0 1 0]\n",
      " [0 1 0 1 0 1 0 1 0 1]\n",
      " [1 0 1 0 1 0 1 0 1 0]]\n"
     ]
    }
   ]
  },
  {
   "cell_type": "code",
   "source": [
    "import numpy as np\n",
    "# Task10\n",
    "\n",
    "arr = np.random.randint(0, 10, 10)\n",
    "print(arr)\n",
    "arr[np.argmax(arr)] = 0\n",
    "print(arr)"
   ],
   "metadata": {
    "colab": {
     "base_uri": "https://localhost:8080/"
    },
    "id": "AlU_rEljhahC",
    "outputId": "e07331a1-27fa-4798-9c5f-87c6e993c9b0"
   },
   "execution_count": null,
   "outputs": [
    {
     "output_type": "stream",
     "name": "stdout",
     "text": [
      "[6 4 7 7 7 5 5 7 0 2]\n",
      "[6 4 0 7 7 5 5 7 0 2]\n"
     ]
    }
   ]
  },
  {
   "cell_type": "code",
   "source": [
    "import numpy as np\n",
    "# Task11\n",
    "n = int(input('Введите число n '))\n",
    "a = int(input('Введите число a '))\n",
    "m = np.random.randint(1, 10, n)\n",
    "index = (np.abs(m - a)).argmin()\n",
    "print(index)\n",
    "print(m)"
   ],
   "metadata": {
    "colab": {
     "base_uri": "https://localhost:8080/"
    },
    "id": "bdL2dRVXhazY",
    "outputId": "85b6f183-c50e-4c8d-a268-5d1f49a921ea"
   },
   "execution_count": null,
   "outputs": [
    {
     "output_type": "stream",
     "name": "stdout",
     "text": [
      "Введите число n 10\n",
      "Введите число a 3\n",
      "6\n",
      "[5 6 8 1 6 4 3 8 8 2]\n"
     ]
    }
   ]
  },
  {
   "cell_type": "code",
   "source": [
    "import numpy as np\n",
    "# Task12\n",
    "\n",
    "arr = np.array([[[[1, 2, 3], [4, 5, 6]], [[7, 8, 9], [10, 11, 12]]],\n",
    "                [[[13, 14, 15], [16, 17, 18]], [[19, 20, 21], [22, 23, 24], ]]])\n",
    "print(arr)\n",
    "print('\\nsum\\n', arr.reshape(arr.shape[:-2] + (-1,)).sum(axis=-1))"
   ],
   "metadata": {
    "colab": {
     "base_uri": "https://localhost:8080/"
    },
    "id": "QxNV-rBdhbFl",
    "outputId": "ec369ea2-0aca-4ed1-e547-b9e6fa05f3b2"
   },
   "execution_count": null,
   "outputs": [
    {
     "output_type": "stream",
     "name": "stdout",
     "text": [
      "[[[[ 1  2  3]\n",
      "   [ 4  5  6]]\n",
      "\n",
      "  [[ 7  8  9]\n",
      "   [10 11 12]]]\n",
      "\n",
      "\n",
      " [[[13 14 15]\n",
      "   [16 17 18]]\n",
      "\n",
      "  [[19 20 21]\n",
      "   [22 23 24]]]]\n",
      "\n",
      "sum\n",
      " [[ 21  57]\n",
      " [ 93 129]]\n"
     ]
    }
   ]
  },
  {
   "cell_type": "code",
   "source": [
    "import numpy as np\n",
    "# Task13\n",
    "\n",
    "arr = np.random.randint(0, 2, (2, 3))\n",
    "print(arr)\n",
    "print(np.any(arr.sum(axis=0) == 0))"
   ],
   "metadata": {
    "colab": {
     "base_uri": "https://localhost:8080/"
    },
    "id": "SwFPAm8hhbp1",
    "outputId": "e0811c7c-b61f-4002-e32b-757c94794675"
   },
   "execution_count": null,
   "outputs": [
    {
     "output_type": "stream",
     "name": "stdout",
     "text": [
      "[[0 0 1]\n",
      " [0 1 0]]\n",
      "True\n"
     ]
    }
   ]
  },
  {
   "cell_type": "code",
   "source": [
    "import numpy as np\n",
    "# Task14\n",
    "\n",
    "arr = np.random.randint(0, 10, (3, 3))\n",
    "print(arr)\n",
    "print('\\nmean\\n', (arr.mean(axis=1)).reshape(-1, 1))\n",
    "print('\\nresult\\n', (arr.T - arr.mean(axis=1)).T)"
   ],
   "metadata": {
    "colab": {
     "base_uri": "https://localhost:8080/"
    },
    "id": "fsrjJ4Mehb_3",
    "outputId": "54fc7f5e-f4b7-48b0-d235-844f4e938ef1"
   },
   "execution_count": null,
   "outputs": [
    {
     "output_type": "stream",
     "name": "stdout",
     "text": [
      "[[2 9 1]\n",
      " [1 1 6]\n",
      " [5 6 8]]\n",
      "\n",
      "mean\n",
      " [[4.        ]\n",
      " [2.66666667]\n",
      " [6.33333333]]\n",
      "\n",
      "result\n",
      " [[-2.          5.         -3.        ]\n",
      " [-1.66666667 -1.66666667  3.33333333]\n",
      " [-1.33333333 -0.33333333  1.66666667]]\n"
     ]
    }
   ]
  },
  {
   "cell_type": "code",
   "source": [
    "import numpy as np\n",
    "# Task15\n",
    "\n",
    "arr = np.arange(10, 51)\n",
    "print(arr)"
   ],
   "metadata": {
    "colab": {
     "base_uri": "https://localhost:8080/"
    },
    "id": "Y1glbdouhcVU",
    "outputId": "7b4c88f9-8a23-4581-9b21-e63e1a5670e6"
   },
   "execution_count": null,
   "outputs": [
    {
     "output_type": "stream",
     "name": "stdout",
     "text": [
      "[10 11 12 13 14 15 16 17 18 19 20 21 22 23 24 25 26 27 28 29 30 31 32 33\n",
      " 34 35 36 37 38 39 40 41 42 43 44 45 46 47 48 49 50]\n"
     ]
    }
   ]
  },
  {
   "cell_type": "code",
   "source": [
    "import numpy as np\n",
    "# Task16\n",
    "arr = np.random.randint(0, 7, (5, 5))\n",
    "print(arr)"
   ],
   "metadata": {
    "colab": {
     "base_uri": "https://localhost:8080/"
    },
    "id": "UKQ1HkqIhd4Q",
    "outputId": "6c6f9028-1516-45eb-fbe9-7d9548c92d9b"
   },
   "execution_count": null,
   "outputs": [
    {
     "output_type": "stream",
     "name": "stdout",
     "text": [
      "[[4 2 2 0 1]\n",
      " [4 2 6 5 1]\n",
      " [5 1 5 6 6]\n",
      " [0 1 4 5 4]\n",
      " [4 2 6 1 5]]\n"
     ]
    }
   ]
  },
  {
   "cell_type": "code",
   "source": [
    "import numpy as np\n",
    "# Task17\n",
    "print('\\narr1\\n', arr1 := np.random.randint(0, 10, (5, 3)))\n",
    "print('\\narr2\\n', arr2 := np.random.randint(0, 10, (3, 2)))\n",
    "print('\\nprod\\n', np.dot(arr1, arr2))"
   ],
   "metadata": {
    "colab": {
     "base_uri": "https://localhost:8080/"
    },
    "id": "4hhYUrtRheLw",
    "outputId": "5cac294b-6082-4143-a55b-c5097ca7dbfd"
   },
   "execution_count": null,
   "outputs": [
    {
     "output_type": "stream",
     "name": "stdout",
     "text": [
      "\n",
      "arr1\n",
      " [[6 3 4]\n",
      " [6 4 7]\n",
      " [4 3 1]\n",
      " [6 5 1]\n",
      " [4 4 5]]\n",
      "\n",
      "arr2\n",
      " [[6 9]\n",
      " [8 5]\n",
      " [4 9]]\n",
      "\n",
      "prod\n",
      " [[ 76 105]\n",
      " [ 96 137]\n",
      " [ 52  60]\n",
      " [ 80  88]\n",
      " [ 76 101]]\n"
     ]
    }
   ]
  },
  {
   "cell_type": "code",
   "source": [
    "import numpy as np\n",
    "# Task18\n",
    "\n",
    "arr = np.zeros((10, 10), dtype=int)\n",
    "arr[1:-1, 1:-1] = 1\n",
    "print(arr)"
   ],
   "metadata": {
    "colab": {
     "base_uri": "https://localhost:8080/"
    },
    "id": "3-EnrdVBhep8",
    "outputId": "0f2d6428-0b50-4727-edca-f8fed685b699"
   },
   "execution_count": null,
   "outputs": [
    {
     "output_type": "stream",
     "name": "stdout",
     "text": [
      "[[0 0 0 0 0 0 0 0 0 0]\n",
      " [0 1 1 1 1 1 1 1 1 0]\n",
      " [0 1 1 1 1 1 1 1 1 0]\n",
      " [0 1 1 1 1 1 1 1 1 0]\n",
      " [0 1 1 1 1 1 1 1 1 0]\n",
      " [0 1 1 1 1 1 1 1 1 0]\n",
      " [0 1 1 1 1 1 1 1 1 0]\n",
      " [0 1 1 1 1 1 1 1 1 0]\n",
      " [0 1 1 1 1 1 1 1 1 0]\n",
      " [0 0 0 0 0 0 0 0 0 0]]\n"
     ]
    }
   ]
  },
  {
   "cell_type": "code",
   "source": [
    "import numpy as np\n",
    "# Task19\n",
    "\n",
    "n = int(input('Введите число n '))\n",
    "a = int(input('Введите число a '))\n",
    "m = np.random.randint(1, 10, n)\n",
    "index = (np.abs(m - a)).argmin()\n",
    "print(index)\n",
    "print(m)"
   ],
   "metadata": {
    "colab": {
     "base_uri": "https://localhost:8080/"
    },
    "id": "jgeTZE9AhfAI",
    "outputId": "253b3901-7661-4eda-bb5c-1f1c125382eb"
   },
   "execution_count": null,
   "outputs": [
    {
     "output_type": "stream",
     "name": "stdout",
     "text": [
      "Введите число n 10\n",
      "Введите число a 5\n",
      "2\n",
      "[8 7 5 9 2 7 3 8 9 9]\n"
     ]
    }
   ]
  },
  {
   "cell_type": "code",
   "source": [
    "import numpy as np\n",
    "# Task20\n",
    "\n",
    "coeff = np.array([0.299, 0.587, 0.114])\n",
    "img = np.array([278, 345, 3])\n",
    "print(np.sum(img * coeff))\n",
    "\n",
    "\n",
    "# Задача рассчитана на работу с matplotlib"
   ],
   "metadata": {
    "colab": {
     "base_uri": "https://localhost:8080/"
    },
    "id": "F2yCVcWihfad",
    "outputId": "61f11d3a-33fb-433a-a480-b1605840ec35"
   },
   "execution_count": null,
   "outputs": [
    {
     "output_type": "stream",
     "name": "stdout",
     "text": [
      "285.979\n"
     ]
    }
   ]
  }
 ]
}
